{
 "cells": [
  {
   "cell_type": "markdown",
   "id": "90cb9b93",
   "metadata": {},
   "source": [
    "\"Patchify\" is a Python package used for dividing an image into smaller patches or tiles.\n",
    "Since our data images are large, they need to be split into smaller pieces to fit into the memory of a GPU for processing.\n",
    "Input images are taken from Cropped_GSS and Cropped_OCT folders.\n",
    "New images are autosaved in GSS_Patched and OCT_Patched folders"
   ]
  },
  {
   "cell_type": "code",
   "execution_count": 14,
   "id": "c0cc6ef8",
   "metadata": {},
   "outputs": [
    {
     "name": "stdout",
     "output_type": "stream",
     "text": [
      "Defaulting to user installation because normal site-packages is not writeable\n",
      "Requirement already satisfied: patchify in /usr4/ec500/kontact/.local/lib/python3.8/site-packages (0.2.3)\n",
      "Requirement already satisfied: numpy<2,>=1 in /share/pkg.7/python3/3.8.10/install/lib/python3.8/site-packages/numpy-1.19.5-py3.8-linux-x86_64.egg (from patchify) (1.19.5)\n",
      "\u001b[33mWARNING: You are using pip version 21.1.1; however, version 23.1.2 is available.\n",
      "You should consider upgrading via the '/share/pkg.7/python3/3.8.10/install/bin/python3.8 -m pip install --upgrade pip' command.\u001b[0m\n",
      "Note: you may need to restart the kernel to use updated packages.\n"
     ]
    }
   ],
   "source": [
    "pip install patchify"
   ]
  },
  {
   "cell_type": "code",
   "execution_count": 1,
   "id": "080ec262",
   "metadata": {},
   "outputs": [],
   "source": [
    "import os\n",
    "from PIL import Image\n",
    "import numpy as np\n",
    "from patchify import patchify\n",
    "import tifffile as tiff"
   ]
  },
  {
   "cell_type": "code",
   "execution_count": 2,
   "id": "f9811cb9",
   "metadata": {},
   "outputs": [
    {
     "name": "stdout",
     "output_type": "stream",
     "text": [
      "(1600, 2688, 3)\n"
     ]
    }
   ],
   "source": [
    "image = tiff.imread('CISL_Dataset/Train_Data/GSS/y_gallyas_10.tif')\n",
    "print(image.shape)"
   ]
  },
  {
   "cell_type": "code",
   "execution_count": 3,
   "id": "cbc34ee4",
   "metadata": {},
   "outputs": [
    {
     "name": "stdout",
     "output_type": "stream",
     "text": [
      "(1600, 2688, 3)\n",
      "1536, 2560, 3\n"
     ]
    }
   ],
   "source": [
    "patch_size = 256\n",
    "size_x = (image.shape[1]//patch_size)*patch_size\n",
    "size_y = (image.shape[0]//patch_size)*patch_size\n",
    "\n",
    "print(image.shape)\n",
    "print(size_y, size_x, 3, sep = \", \")"
   ]
  },
  {
   "cell_type": "code",
   "execution_count": 4,
   "id": "112c1972",
   "metadata": {},
   "outputs": [],
   "source": [
    "root_directory = 'CISL_Dataset/Train_Data/'\n",
    "\n",
    "patch_size = 256\n",
    "\n",
    "for path, subdirs, files in os.walk(root_directory):\n",
    "    directory = path.split(os.path.sep)[-1]\n",
    "    if directory == 'GSS':\n",
    "        images = os.listdir(path)\n",
    "        for i, image_name in enumerate(images):\n",
    "            if image_name.endswith(\".tif\"):\n",
    "            \n",
    "                image = tiff.imread(path + \"/\" + image_name)\n",
    "                size_x = (image.shape[1]//patch_size)*patch_size\n",
    "                size_y = (image.shape[0]//patch_size)*patch_size\n",
    "\n",
    "                cropped_image = image[(image.shape[0]-size_y):image.shape[0], (image.shape[1]-size_x):image.shape[1], :]\n",
    "                tiff.imwrite(root_directory + \"/Cropped_GSS/\" + \"crop_\" + image_name, cropped_image)\n",
    "            \n",
    "    elif directory == 'OCT':\n",
    "        images = os.listdir(path)\n",
    "        for i, image_name in enumerate(images):\n",
    "            if image_name.endswith(\".tif\"):\n",
    "            \n",
    "                image = tiff.imread(path + \"/\" + image_name)\n",
    "                size_x = (image.shape[1]//patch_size)*patch_size\n",
    "                size_y = (image.shape[0]//patch_size)*patch_size\n",
    "\n",
    "                cropped_image = image[(image.shape[0]-size_y):image.shape[0], (image.shape[1]-size_x):image.shape[1]]\n",
    "                tiff.imwrite(root_directory + \"/Cropped_OCT/\" + \"crop_\" + image_name, cropped_image)\n",
    "                "
   ]
  },
  {
   "cell_type": "code",
   "execution_count": 6,
   "id": "8f167a5b",
   "metadata": {},
   "outputs": [],
   "source": [
    "for path, subdirs, files in os.walk(root_directory):\n",
    "    directory = path.split(os.path.sep)[-1]\n",
    "    if directory == 'Cropped_GSS':\n",
    "        images = os.listdir(path)\n",
    "        for i, image_name in enumerate(images):\n",
    "            if image_name.endswith(\".tif\"):\n",
    "                image = tiff.imread(path + \"/\" + image_name)\n",
    "                patches = patchify(image, (256, 256, 3), step = 256)\n",
    "                \n",
    "                for i in range(patches.shape[0]):\n",
    "                    for j in range(patches.shape[1]):\n",
    "                        \n",
    "                        patch = patches[i, j, :, :, :]\n",
    "                        tiff.imwrite(root_directory + \"/GSS_Patch/\" + str(i) + str(j) + image_name, patch)\n",
    "            \n",
    "    elif directory == 'Cropped_OCT':\n",
    "        images = os.listdir(path)\n",
    "        for i, image_name in enumerate(images):\n",
    "            if image_name.endswith(\".tif\"):\n",
    "            \n",
    "                image = tiff.imread(path + \"/\" + image_name)\n",
    "                patches = patchify(image, (256, 256), step = 256)\n",
    "                \n",
    "                for i in range(patches.shape[0]):\n",
    "                    for j in range(patches.shape[1]):\n",
    "                        \n",
    "                        patch = patches[i, j, :, :]\n",
    "                        tiff.imwrite(root_directory + \"/OCT_Patch/\" + str(i) + str(j) + image_name, patch)\n",
    "                        "
   ]
  }
 ],
 "metadata": {
  "kernelspec": {
   "display_name": "Python 3",
   "language": "python",
   "name": "python3"
  },
  "language_info": {
   "codemirror_mode": {
    "name": "ipython",
    "version": 3
   },
   "file_extension": ".py",
   "mimetype": "text/x-python",
   "name": "python",
   "nbconvert_exporter": "python",
   "pygments_lexer": "ipython3",
   "version": "3.8.10"
  }
 },
 "nbformat": 4,
 "nbformat_minor": 5
}
