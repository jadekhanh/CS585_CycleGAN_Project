def test(G_GSS, loader):
    
    loop = tqdm(loader, leave=True)
    
    for idx, (OCT, GSS, OCT_file, GSS_file) in enumerate(loop):
        
        OCT = OCT.to(config.DEVICE)
        GSS = GSS.to(config.DEVICE)
        
        with torch.cuda.amp.autocast():
            
            GSS_gen = G_GSS(OCT)
            
            save_image(GSS_gen * 0.5 + 0.5, f"CISL_Dataset/saved_images/GSSfrom_" + OCT_file[0])

def main():
    
    test_dataset = OCT_GSS_Dataset(
        root_OCT = config.TRAIN_DIR + "/Test_OCT_Patch",
        root_GSS = config.TRAIN_DIR + "/Test_GSS_Patch",
        transform = config.transforms,
    )
    test_loader = DataLoader(
        test_dataset,
        batch_size=1,
        shuffle=False,
        pin_memory=True,
    )
    
    GSS_trained = Generator(img_channels = 3, num_residuals = 9).to(config.DEVICE)
    checkpoint = torch.load('g_gss.pth.tar')
    GSS_trained.load_state_dict(checkpoint['state_dict'])
    
    test(GSS_trained, test_loader)
    
if __name__ == "__main__":
    main()
