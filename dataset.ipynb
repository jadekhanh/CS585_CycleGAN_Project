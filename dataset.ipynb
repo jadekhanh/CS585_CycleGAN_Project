import os
from PIL import Image
from torch.utils.data import Dataset
import numpy as np

class OCT_GSS_Dataset(Dataset):
    def __init__(self, root_OCT, root_GSS, transform = None):
        self.root_OCT = root_OCT
        self.root_GSS = root_GSS
        self.transform = transform
        
        self.OCT_images = os.listdir(root_OCT)
        self.GSS_images = os.listdir(root_GSS)
        
        for file in self.OCT_images:
            if not file.endswith(".tif"):
                self.OCT_images.remove(file)
                
        for file in self.GSS_images:
            if not file.endswith(".tif"):
                self.GSS_images.remove(file)
                
        self.length_dataset = max(len(self.OCT_images), len(self.GSS_images))
        
        self.OCT_len = len(self.OCT_images)
        self.GSS_len = len(self.GSS_images)
        
    def __len__(self):
        return self.length_dataset
    
    def __getitem__(self, index):
        OCT_img = self.OCT_images[index % self.OCT_len]
        GSS_img = self.GSS_images[index % self.GSS_len]
        
        OCT_path = os.path.join(self.root_OCT, OCT_img)
        GSS_path = os.path.join(self.root_GSS, GSS_img)
        
        OCT_file = os.path.basename(OCT_path)
        GSS_file = os.path.basename(GSS_path)
        
        OCT_img = np.array(Image.open(OCT_path).convert("RGB"))
        GSS_img = np.array(Image.open(GSS_path).convert("RGB"))
        
        if self.transform:
            OCT_img = transforms(OCT_img)
            GSS_img = transforms(GSS_img)
            
        return OCT_img, GSS_img, OCT_file, GSS_file
